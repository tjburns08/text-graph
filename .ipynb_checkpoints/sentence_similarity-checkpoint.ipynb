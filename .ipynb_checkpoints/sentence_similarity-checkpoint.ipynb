{
 "cells": [
  {
   "cell_type": "markdown",
   "id": "a14b5e9f",
   "metadata": {},
   "source": [
    "This notebook will take in a list of questions and calculate sentence similarity scores between each of them using the BERT model. "
   ]
  },
  {
   "cell_type": "code",
   "execution_count": null,
   "id": "80bb32c2",
   "metadata": {},
   "outputs": [],
   "source": []
  }
 ],
 "metadata": {
  "kernelspec": {
   "display_name": "Python 3 (ipykernel)",
   "language": "python",
   "name": "python3"
  },
  "language_info": {
   "codemirror_mode": {
    "name": "ipython",
    "version": 3
   },
   "file_extension": ".py",
   "mimetype": "text/x-python",
   "name": "python",
   "nbconvert_exporter": "python",
   "pygments_lexer": "ipython3",
   "version": "3.9.7"
  }
 },
 "nbformat": 4,
 "nbformat_minor": 5
}
